{
  "nbformat": 4,
  "nbformat_minor": 0,
  "metadata": {
    "colab": {
      "name": "Leung_Vivian_problem_set_5.ipynb",
      "provenance": [],
      "collapsed_sections": []
    },
    "kernelspec": {
      "name": "python3",
      "display_name": "Python 3"
    },
    "language_info": {
      "name": "python"
    }
  },
  "cells": [
    {
      "cell_type": "markdown",
      "metadata": {
        "id": "Ygq8hlblksa2"
      },
      "source": [
        "# Block 1"
      ]
    },
    {
      "cell_type": "code",
      "metadata": {
        "id": "KHQPzGsuk5BU"
      },
      "source": [
        "# imported the libraries\n",
        "import pandas as pd\n",
        "import numpy as np\n",
        "import matplotlib.pyplot as plt\n",
        "import seaborn as sns"
      ],
      "execution_count": null,
      "outputs": []
    },
    {
      "cell_type": "markdown",
      "metadata": {
        "id": "WqJZt-bBkvTB"
      },
      "source": [
        "# Block 2"
      ]
    },
    {
      "cell_type": "code",
      "metadata": {
        "id": "YnZ7CBx5kodY",
        "colab": {
          "base_uri": "https://localhost:8080/"
        },
        "outputId": "be05a3ab-7f29-4f87-ea33-e2c149cc2cd2"
      },
      "source": [
        "# loaded in the data - index_col=0 ensures that there are no extra index columns (the 1st column becomes the index)\n",
        "data_df = pd.read_excel('messed_up_iris.xlsx', index_col=0)\n",
        "\n",
        "print('------------ 2a ------------')\n",
        "print(data_df.shape) # shows the shape of the data\n",
        "print('------------ 2b ------------')\n",
        "print(data_df.head()) # shows the head of the data"
      ],
      "execution_count": null,
      "outputs": [
        {
          "output_type": "stream",
          "text": [
            "------------ 2a ------------\n",
            "(150, 7)\n",
            "------------ 2b ------------\n",
            "   sepal_length  sepal_width  petal_length  petal_width species   color  origin\n",
            "0           5.1          3.5           1.4          0.2  setosa   green     usa\n",
            "1           4.9          3.0           1.4          0.2  setosa  yellow     usa\n",
            "2           4.7          3.2           1.3          0.2  setosa   green     usa\n",
            "3           4.6          3.1           1.5          0.2  setosa  orange   japan\n",
            "4           5.0          3.6           1.4          0.2  setosa    blue  europe\n"
          ],
          "name": "stdout"
        }
      ]
    },
    {
      "cell_type": "markdown",
      "metadata": {
        "id": "2auYIwVqk5b3"
      },
      "source": [
        "# Block 3"
      ]
    },
    {
      "cell_type": "code",
      "metadata": {
        "id": "-g4f6C0Jk6vB",
        "colab": {
          "base_uri": "https://localhost:8080/"
        },
        "outputId": "15991ea8-9989-4cf1-ced5-022ff88c7495"
      },
      "source": [
        "# removed the column(s) where more than 50% of the data is missing\n",
        "# drop the column if the number of NaNs in the column is greater than the total number of rows in the dataframe/2 (we want to only keep columns that have len(data_df.index)/2+ non-NaNs)\n",
        "data_df = data_df.dropna(thresh = len(data_df.index)/2, axis=1)\n",
        "\n",
        "# removed the rows where more than 50% of the data is missing - used dropna(thresh = x), which only keeps rows w/ at least X number of non-NaNs \n",
        "# since we want to remove rows that have more than 50% of the data missing, x=4 bc we only want to keep rows that have 4+ non-NaNs\n",
        "data_df = data_df.dropna(thresh = len(data_df.columns)/2) \n",
        "\n",
        "print(data_df.shape) # shows the shape of the data"
      ],
      "execution_count": null,
      "outputs": [
        {
          "output_type": "stream",
          "text": [
            "(145, 6)\n"
          ],
          "name": "stdout"
        }
      ]
    },
    {
      "cell_type": "markdown",
      "metadata": {
        "id": "x0azvNBr7UW0"
      },
      "source": [
        "# Block 4"
      ]
    },
    {
      "cell_type": "code",
      "metadata": {
        "colab": {
          "base_uri": "https://localhost:8080/"
        },
        "id": "GWVAqFM47VHQ",
        "outputId": "c8ba4b62-a5ca-4c22-fbd6-b1385d7efc28"
      },
      "source": [
        "# used the drop_duplicates method to remove rows w/ duplicate data - ignore_index=True re-indexes the data\n",
        "data_df = data_df.drop_duplicates(ignore_index=True)\n",
        "\n",
        "print(data_df.shape) # shows the shape of the data\n",
        "print(any(data_df.duplicated())) # double checking to make sure that there are no duplicates in the dataframe"
      ],
      "execution_count": null,
      "outputs": [
        {
          "output_type": "stream",
          "text": [
            "(140, 6)\n",
            "False\n"
          ],
          "name": "stdout"
        }
      ]
    },
    {
      "cell_type": "code",
      "metadata": {
        "colab": {
          "base_uri": "https://localhost:8080/",
          "height": 342
        },
        "id": "2TizClNBvygF",
        "outputId": "8458f3c3-d8d2-4485-e1a0-f6ded98aacfe"
      },
      "source": [
        "sns.heatmap(data_df.isnull()) # visualized the NaNs that exist in the data_df dataframe"
      ],
      "execution_count": null,
      "outputs": [
        {
          "output_type": "execute_result",
          "data": {
            "text/plain": [
              "<matplotlib.axes._subplots.AxesSubplot at 0x7f7e7a9310d0>"
            ]
          },
          "metadata": {
            "tags": []
          },
          "execution_count": 27
        },
        {
          "output_type": "display_data",
          "data": {
            "image/png": "[encoded data removed]",
            "text/plain": [
              "<Figure size 432x288 with 2 Axes>"
            ]
          },
          "metadata": {
            "tags": [],
            "needs_background": "light"
          }
        }
      ]
    },
    {
      "cell_type": "markdown",
      "metadata": {
        "id": "7Yyza87B7Vam"
      },
      "source": [
        "# Block 5"
      ]
    },
    {
      "cell_type": "code",
      "metadata": {
        "colab": {
          "base_uri": "https://localhost:8080/"
        },
        "id": "g7gQQUr_7WQh",
        "outputId": "58f93fa1-4d1d-4711-b947-c64304b3dab7"
      },
      "source": [
        "# fixed misspelled species names\n",
        "data_df['species'] = np.where(data_df['species'] == 'seotsa', 'setosa', data_df['species'])\n",
        "data_df['species'] = np.where(data_df['species'] == 'versicolr', 'versicolor', data_df['species'])\n",
        "data_df['species'] = np.where(data_df['species'] == 'virginia', 'virginica', data_df['species'])\n",
        "data_df['species'] = np.where(data_df['species'] == 'west virginia', 'virginica', data_df['species'])\n",
        "\n",
        "# fixed misspelled origin names\n",
        "data_df['origin'] = np.where(data_df['origin'] == 'euarope', 'europe', data_df['origin'])\n",
        "data_df['origin'] = np.where(data_df['origin'] == 'uas', 'usa', data_df['origin'])\n",
        "\n",
        "# dummy coding the categorical data (species and origin) from the data_df dataframe\n",
        "species_dummy_df = pd.get_dummies(data_df['species'])\n",
        "origin_dummy_df = pd.get_dummies(data_df['origin'])\n",
        "\n",
        "# concat the data_df dataframe with the dummy codes for each category\n",
        "data_dummy_df = pd.concat([data_df, species_dummy_df, origin_dummy_df], axis=1)\n",
        "\n",
        "print(data_dummy_df.head()) # shows the head of the dummy coded data"
      ],
      "execution_count": null,
      "outputs": [
        {
          "output_type": "stream",
          "text": [
            "   sepal_length  sepal_width  petal_length  ...  europe japan usa\n",
            "0           5.1          3.5           1.4  ...       0     0   1\n",
            "1           4.9          3.0           1.4  ...       0     0   1\n",
            "2           4.7          3.2           1.3  ...       0     0   1\n",
            "3           4.6          3.1           1.5  ...       0     1   0\n",
            "4           5.0          3.6           1.4  ...       1     0   0\n",
            "\n",
            "[5 rows x 12 columns]\n"
          ],
          "name": "stdout"
        }
      ]
    },
    {
      "cell_type": "markdown",
      "metadata": {
        "id": "YOIPLPSW7Wcs"
      },
      "source": [
        "# Block 6"
      ]
    },
    {
      "cell_type": "code",
      "metadata": {
        "colab": {
          "base_uri": "https://localhost:8080/"
        },
        "id": "hUvkl_ER7Yd9",
        "outputId": "7a20be55-e074-4206-fcab-ca3c4f569fb1"
      },
      "source": [
        "# dropped the redundant columns (species, origin, setosa, and europe) from the dataframe so that we only have the dummy coded columns \n",
        "data_dummy_updated_df = data_dummy_df.drop(columns=['species', 'origin', 'setosa', 'europe'])\n",
        "\n",
        "# shows the head of the updated dataframe\n",
        "print(data_dummy_updated_df.head())"
      ],
      "execution_count": null,
      "outputs": [
        {
          "output_type": "stream",
          "text": [
            "   sepal_length  sepal_width  petal_length  ...  virginica  japan  usa\n",
            "0           5.1          3.5           1.4  ...          0      0    1\n",
            "1           4.9          3.0           1.4  ...          0      0    1\n",
            "2           4.7          3.2           1.3  ...          0      0    1\n",
            "3           4.6          3.1           1.5  ...          0      1    0\n",
            "4           5.0          3.6           1.4  ...          0      0    0\n",
            "\n",
            "[5 rows x 8 columns]\n"
          ],
          "name": "stdout"
        }
      ]
    },
    {
      "cell_type": "markdown",
      "metadata": {
        "id": "zekH1lVM7Y20"
      },
      "source": [
        "# Block 7"
      ]
    },
    {
      "cell_type": "code",
      "metadata": {
        "id": "x30_j7DLlsXV"
      },
      "source": [
        "# used a for loop to remove outliers above 2 std devs from the dataframe\n",
        "for i in data_dummy_updated_df.columns:\n",
        "\n",
        "  # if the 1st value of the column is a float:\n",
        "  if isinstance(data_dummy_updated_df[i][0], float) == 1:\n",
        "    \n",
        "    # find the upper threshold, which in this case, is 2 std dev above the mean (values greater than the upper threshold are outliers)\n",
        "    upper_threshold = data_dummy_updated_df[i].mean() + (2*data_dummy_updated_df[i].std())\n",
        "\n",
        "    # get the indexes of the rows that contain outliers and drop them\n",
        "    data_dummy_updated_df.drop(data_dummy_updated_df.loc[data_dummy_updated_df[i] > upper_threshold].index, inplace=True)\n",
        "\n",
        "# resets the index after the rows w/ outliers have been dropped\n",
        "data_dummy_updated_df = data_dummy_updated_df.reset_index(drop=True)"
      ],
      "execution_count": null,
      "outputs": []
    },
    {
      "cell_type": "markdown",
      "metadata": {
        "id": "Ai9KMhci7aaw"
      },
      "source": [
        "# Block 8"
      ]
    },
    {
      "cell_type": "code",
      "metadata": {
        "id": "-5jZvl0cA8_E"
      },
      "source": [
        "# EXTRA CREDIT\n",
        "# replace the remaining NaNs w/ the median of the appropriate column w/ respect to species\n",
        "for j in data_dummy_updated_df.columns:  \n",
        "  \n",
        "  # if the 1st value of the column is a float:\n",
        "  if isinstance(data_dummy_updated_df[j][0], float) == 1:\n",
        "    \n",
        "    # species: setosa\n",
        "    # locate the rows where the species is setosa (0 in both species versicolor and virginia column)\n",
        "    setosa_df = data_dummy_updated_df.loc[np.where((data_dummy_updated_df['versicolor'] == 0) & (data_dummy_updated_df['virginica'] == 0))]\n",
        "    # where there's a NaN in a column and the species is setosa, fill it w/ the median of that column\n",
        "    data_dummy_updated_df[j] = np.where((data_dummy_updated_df[j].isnull()) & (data_dummy_updated_df['versicolor'] == 0) & (data_dummy_updated_df['virginica'] == 0), setosa_df[j].median(), data_dummy_updated_df[j])\n",
        "\n",
        "    # species: versicolor\n",
        "    # locate the rows where the species is versicolor\n",
        "    versicolor_df = data_dummy_updated_df.loc[np.where(data_dummy_updated_df['versicolor'] == 1)]\n",
        "    # where there's a NaN in a column and the species is versicolor, fill it w/ the median of that column\n",
        "    data_dummy_updated_df[j] = np.where((data_dummy_updated_df[j].isnull()) & (data_dummy_updated_df['versicolor'] == 1), versicolor_df[j].median(), data_dummy_updated_df[j])\n",
        "\n",
        "    # species: virginica\n",
        "    # locate the rows where the species is virginica\n",
        "    virginica_df = data_dummy_updated_df.loc[np.where(data_dummy_updated_df['virginica'] == 1)]\n",
        "    # where there's a NaN in a column and the species is virginica, fill it w/ the median of that column\n",
        "    data_dummy_updated_df[j] = np.where((data_dummy_updated_df[j].isnull()) & (data_dummy_updated_df['virginica'] == 1), virginica_df[j].median(), data_dummy_updated_df[j])"
      ],
      "execution_count": null,
      "outputs": []
    },
    {
      "cell_type": "code",
      "metadata": {
        "colab": {
          "base_uri": "https://localhost:8080/",
          "height": 342
        },
        "id": "bEcX63vww2R1",
        "outputId": "bc9b6179-fa2c-4dae-e139-d1a486308255"
      },
      "source": [
        "sns.heatmap(data_dummy_updated_df.isnull()) # visualized how many NaNs there are in the data_dummy_updated_df dataframe"
      ],
      "execution_count": null,
      "outputs": [
        {
          "output_type": "execute_result",
          "data": {
            "text/plain": [
              "<matplotlib.axes._subplots.AxesSubplot at 0x7f7e7aa8bf50>"
            ]
          },
          "metadata": {
            "tags": []
          },
          "execution_count": 22
        },
        {
          "output_type": "display_data",
          "data": {
            "image/png": "[encoded data removed]",
            "text/plain": [
              "<Figure size 432x288 with 2 Axes>"
            ]
          },
          "metadata": {
            "tags": [],
            "needs_background": "light"
          }
        }
      ]
    },
    {
      "cell_type": "markdown",
      "metadata": {
        "id": "iDDnyVoB7bZc"
      },
      "source": [
        "# Block 9 "
      ]
    },
    {
      "cell_type": "code",
      "metadata": {
        "id": "ax5NKO157cLo",
        "colab": {
          "base_uri": "https://localhost:8080/"
        },
        "outputId": "062961a2-eeb6-45b9-e5ee-d5b665426985"
      },
      "source": [
        "# EXTRA CREDIT\n",
        "# bin the petal width column into low, medium, and high depending on the following bins (bins = 0 to 0.9, 0.9 to 1.8, 1.8 to 2.7)\n",
        "petal_width_bins = pd.cut(data_dummy_updated_df['petal_width'], [0, 0.9, 1.8, 2.7], labels=[1, 2, 3])\n",
        "\n",
        "# created a new column in the data_dummy_updated_df dataframe for the binned petal widths\n",
        "data_dummy_updated_df['petal_width_bins'] = petal_width_bins\n",
        "\n",
        "print(data_dummy_updated_df.head()) # shows the head of data_dummy_updated_df dataframe w/ the petal_width_bins as a new column "
      ],
      "execution_count": null,
      "outputs": [
        {
          "output_type": "stream",
          "text": [
            "   sepal_length  sepal_width  petal_length  ...  japan  usa  petal_width_bins\n",
            "0           5.1          3.5           1.4  ...      0    1                 1\n",
            "1           4.9          3.0           1.4  ...      0    1                 1\n",
            "2           4.7          3.2           1.3  ...      0    1                 1\n",
            "3           4.6          3.1           1.5  ...      1    0                 1\n",
            "4           5.0          3.6           1.4  ...      0    0                 1\n",
            "\n",
            "[5 rows x 9 columns]\n"
          ],
          "name": "stdout"
        }
      ]
    },
    {
      "cell_type": "markdown",
      "metadata": {
        "id": "8DBXr3ta7cgd"
      },
      "source": [
        "# Block 10"
      ]
    },
    {
      "cell_type": "code",
      "metadata": {
        "id": "kG8xMte47dDh",
        "colab": {
          "base_uri": "https://localhost:8080/"
        },
        "outputId": "04a6fef5-003f-4c42-a50a-6221d4a18997"
      },
      "source": [
        "print('------------ 10a ------------')\n",
        "print(data_dummy_updated_df.info()) # shows that there are no missing data using the info method\n",
        "\n",
        "print('------------ 10b ------------')\n",
        "print(data_dummy_updated_df.describe()) # shows descriptives of the final dataset using the describe method"
      ],
      "execution_count": null,
      "outputs": [
        {
          "output_type": "stream",
          "text": [
            "------------ 10a ------------\n",
            "<class 'pandas.core.frame.DataFrame'>\n",
            "RangeIndex: 129 entries, 0 to 128\n",
            "Data columns (total 9 columns):\n",
            " #   Column            Non-Null Count  Dtype   \n",
            "---  ------            --------------  -----   \n",
            " 0   sepal_length      129 non-null    float64 \n",
            " 1   sepal_width       129 non-null    float64 \n",
            " 2   petal_length      129 non-null    float64 \n",
            " 3   petal_width       129 non-null    float64 \n",
            " 4   versicolor        129 non-null    uint8   \n",
            " 5   virginica         129 non-null    uint8   \n",
            " 6   japan             129 non-null    uint8   \n",
            " 7   usa               129 non-null    uint8   \n",
            " 8   petal_width_bins  129 non-null    category\n",
            "dtypes: category(1), float64(4), uint8(4)\n",
            "memory usage: 4.9 KB\n",
            "None\n",
            "------------ 10b ------------\n",
            "       sepal_length  sepal_width  ...       japan         usa\n",
            "count    129.000000    129.00000  ...  129.000000  129.000000\n",
            "mean       5.837597      3.05969  ...    0.302326    0.379845\n",
            "std        0.799708      0.44221  ...    0.461056    0.487240\n",
            "min        4.300000      2.00000  ...    0.000000    0.000000\n",
            "25%        5.100000      2.80000  ...    0.000000    0.000000\n",
            "50%        5.800000      3.00000  ...    0.000000    0.000000\n",
            "75%        6.400000      3.40000  ...    1.000000    1.000000\n",
            "max        7.900000      4.40000  ...    1.000000    1.000000\n",
            "\n",
            "[8 rows x 8 columns]\n"
          ],
          "name": "stdout"
        }
      ]
    }
  ]
}