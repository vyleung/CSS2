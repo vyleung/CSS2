{
  "nbformat": 4,
  "nbformat_minor": 0,
  "metadata": {
    "colab": {
      "name": "Leung_Vivian_problem_set_4.ipynb",
      "provenance": [],
      "collapsed_sections": []
    },
    "kernelspec": {
      "name": "python3",
      "display_name": "Python 3"
    },
    "language_info": {
      "name": "python"
    }
  },
  "cells": [
    {
      "cell_type": "markdown",
      "metadata": {
        "id": "Ygq8hlblksa2"
      },
      "source": [
        "# Block 1"
      ]
    },
    {
      "cell_type": "code",
      "metadata": {
        "id": "KHQPzGsuk5BU"
      },
      "source": [
        "# imported the libraries\n",
        "from bs4 import BeautifulSoup\n",
        "import requests\n",
        "import pandas as pd"
      ],
      "execution_count": null,
      "outputs": []
    },
    {
      "cell_type": "markdown",
      "metadata": {
        "id": "WqJZt-bBkvTB"
      },
      "source": [
        "# Block 2"
      ]
    },
    {
      "cell_type": "code",
      "metadata": {
        "id": "YnZ7CBx5kodY"
      },
      "source": [
        "# created a function to web scrape weather.com for the weather in a zipcode\n",
        "def weather(zipcode):\n",
        "  \"\"\"\n",
        "  purpose of function: web scrapes weather.com for the weather in a zipcode\n",
        "\n",
        "  input: any zipcode\n",
        "  \"\"\"\n",
        "  # the weather.com template url\n",
        "  weather_url = 'https://weather.com/weather/today/l/XXXXX:4:US'\n",
        "\n",
        "  # convert the zipcode that's inputted into a string\n",
        "  zipcode = str(zipcode)\n",
        "\n",
        "  # replace the 'XXXXX' part of the weather.com template url with the zipcode that's inputted\n",
        "  new_weather_url = weather_url.replace('XXXXX', zipcode)\n",
        "\n",
        "  # get the webpage content from the new url\n",
        "  weather_response = requests.get(new_weather_url)\n",
        "  \n",
        "  # if status code for the new url is valid (aka it's 200):\n",
        "  if weather_response.status_code == 200:\n",
        "    # transform the webpage content into a BeautifulSoup object\n",
        "    weather_soup = BeautifulSoup(weather_response.content, 'html.parser')\n",
        "\n",
        "    # get the name of the city and state\n",
        "    weather_location = weather_soup.find(class_='CurrentConditions--location--1Ayv3')\n",
        "    weather_location = weather_location.text.strip(' Weather')\n",
        "\n",
        "    # get the weather in Fahrenheit\n",
        "    weather_temp = weather_soup.find(class_='CurrentConditions--tempValue--3KcTQ')\n",
        "    weather_temp = weather_temp.text + ' F'\n",
        "\n",
        "    # return the zipcode's location (city and state) and temperature as well as the zipcode itself\n",
        "    return ('Location: ' + weather_location + ', Temperature: ' + weather_temp + ', Zipcode: ' + zipcode)\n",
        "    \n",
        "  # if status_code for the new url is NOT valid (aka it's something other than 200):\n",
        "  else:\n",
        "    # return an error message\n",
        "    return (str(zipcode) + ' is not a valid zipcode')"
      ],
      "execution_count": null,
      "outputs": []
    },
    {
      "cell_type": "markdown",
      "metadata": {
        "id": "2auYIwVqk5b3"
      },
      "source": [
        "# Block 3"
      ]
    },
    {
      "cell_type": "code",
      "metadata": {
        "colab": {
          "base_uri": "https://localhost:8080/"
        },
        "id": "osYQJY3E-kDA",
        "outputId": "e9d66c47-601c-49f4-c22b-9b7d012f34b8"
      },
      "source": [
        "# EXTRA CREDIT: \n",
        "# a list of zipcodes\n",
        "zipcode_list = [92122, str(92122), 9212, 99999, 92328, 'Hello, is this weather.com?']\n",
        "\n",
        "# created a for loop to pass the list of zipcodes into my function to get the location and temperature of the zipcode as well as the zipcode itself\n",
        "for i in zipcode_list:\n",
        "  print(weather(i))"
      ],
      "execution_count": null,
      "outputs": [
        {
          "output_type": "stream",
          "text": [
            "Location: San Diego, CA, Temperature: 57° F, Zipcode: 92122\n",
            "Location: San Diego, CA, Temperature: 57° F, Zipcode: 92122\n",
            "9212 is not a valid zipcode\n",
            "99999 is not a valid zipcode\n",
            "Location: Death Valley, CA, Temperature: 76° F, Zipcode: 92328\n",
            "Hello, is this weather.com? is not a valid zipcode\n"
          ],
          "name": "stdout"
        }
      ]
    }
  ]
}