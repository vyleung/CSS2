{
  "nbformat": 4,
  "nbformat_minor": 0,
  "metadata": {
    "colab": {
      "name": "Leung_Vivian_problem_set_9.ipynb",
      "provenance": [],
      "collapsed_sections": []
    },
    "kernelspec": {
      "name": "python3",
      "display_name": "Python 3"
    },
    "language_info": {
      "name": "python"
    }
  },
  "cells": [
    {
      "cell_type": "markdown",
      "metadata": {
        "id": "Ygq8hlblksa2"
      },
      "source": [
        "# Block 1"
      ]
    },
    {
      "cell_type": "code",
      "metadata": {
        "id": "KHQPzGsuk5BU"
      },
      "source": [
        "# imported the libraries\n",
        "import pandas as pd\n",
        "import numpy as np\n",
        "import matplotlib.pyplot as plt\n",
        "import seaborn as sns\n",
        "from sklearn.linear_model import LinearRegression\n",
        "\n",
        "# imported the data\n",
        "data = sns.load_dataset('geyser')"
      ],
      "execution_count": null,
      "outputs": []
    },
    {
      "cell_type": "markdown",
      "metadata": {
        "id": "WqJZt-bBkvTB"
      },
      "source": [
        "# Block 2"
      ]
    },
    {
      "cell_type": "code",
      "metadata": {
        "id": "YnZ7CBx5kodY",
        "colab": {
          "base_uri": "https://localhost:8080/"
        },
        "outputId": "15405c14-1667-48e9-9f8b-b3b69601fc57"
      },
      "source": [
        "# the variables of interest\n",
        "X = data['duration']\n",
        "y = data['waiting']\n",
        "\n",
        "# created lists for storing the data\n",
        "training_data_X = []\n",
        "training_data_y =[]\n",
        "training_index_list = []\n",
        "testing_data_X = []\n",
        "testing_data_y =[]\n",
        "testing_index_list = []\n",
        "\n",
        "# for loop to get a random list of numbers for the training dataset (75% of the raw data)\n",
        "for i in np.random.permutation(len(data))[:int(len(data)*0.75)]:\n",
        "  training_index_list.append(i)\n",
        "  X_train = X[i] # indexes into X\n",
        "  y_train = y[i] # indexes into y\n",
        "  training_data_X.append(X_train) # appends the X_train values to a list\n",
        "  training_data_y.append(y_train) # appends the y_train values to a list\n",
        "print(training_data_X)\n",
        "print(training_data_y)\n",
        "\n",
        "print()\n",
        "# for loop to get the list of numbers not in training dataset for the testing dataset (25% of the raw data)\n",
        "for j in np.arange(len(data)):\n",
        "  if j not in training_index_list:\n",
        "    testing_index_list.append(j) # appends the numbers to a list\n",
        "    X_test = X[j] # indexes into X\n",
        "    y_test = y[j] # indexes into y\n",
        "    testing_data_X.append(X_test) # appends the X_test values to a list\n",
        "    testing_data_y.append(y_test) # appends the y_test values to a list\n",
        "print(testing_data_X)\n",
        "print(testing_data_y)"
      ],
      "execution_count": null,
      "outputs": [
        {
          "output_type": "stream",
          "text": [
            "[4.067, 3.767, 1.867, 4.933, 4.05, 2.2, 4.3, 2.283, 4.417, 4.417, 2.4, 4.0, 2.633, 1.75, 3.367, 4.583, 2.25, 1.967, 2.083, 2.25, 1.967, 1.883, 1.733, 4.133, 4.567, 3.767, 3.6, 2.167, 1.85, 4.083, 1.967, 4.433, 4.45, 3.567, 4.633, 4.333, 5.0, 3.45, 4.517, 4.433, 4.267, 4.65, 4.8, 1.817, 1.6669999999999998, 1.85, 1.833, 2.133, 4.25, 1.75, 4.383, 4.0, 3.95, 4.8, 2.333, 2.233, 2.0, 1.833, 4.083, 2.067, 4.5, 4.633, 3.833, 3.683, 2.0, 4.817, 4.117, 4.8, 1.983, 4.167, 5.033, 1.833, 4.167, 2.483, 4.633, 3.75, 3.333, 4.117, 4.267, 2.3, 4.083, 4.467, 4.5, 1.783, 4.9, 1.95, 4.0, 3.833, 3.717, 4.033, 1.75, 4.7330000000000005, 4.3660000000000005, 3.833, 1.883, 4.7, 2.017, 1.833, 4.167, 3.833, 2.1, 4.467, 3.917, 4.567, 4.583, 4.3, 2.883, 1.8, 2.383, 4.0, 3.95, 4.417, 4.0, 3.333, 1.867, 2.317, 4.533, 3.85, 1.75, 4.283, 4.583, 4.5, 4.2330000000000005, 4.15, 3.883, 3.417, 4.767, 4.367, 1.783, 1.883, 4.933, 2.417, 4.533, 2.0, 4.933, 4.533, 4.2, 2.033, 1.75, 4.367, 3.317, 2.1, 4.567, 4.417, 2.017, 4.45, 4.667, 4.55, 4.9, 4.8, 3.6, 2.2, 4.4, 1.8, 4.883, 4.5, 4.75, 4.25, 4.2330000000000005, 2.233, 2.2, 3.966, 4.033, 3.733, 4.333, 2.9, 4.0, 2.217, 4.533, 1.75, 4.083, 2.617, 5.1, 4.6, 4.283, 1.867, 1.817, 4.2330000000000005, 1.8, 4.7, 4.333, 4.133, 4.35, 1.933, 4.25, 4.1, 4.367, 3.6, 2.367, 4.817, 1.8, 1.6, 2.0, 1.833, 4.7, 1.883, 3.967, 4.5, 4.667, 4.783, 1.983, 1.867, 3.917, 3.833]\n",
            "[73, 81, 47, 86, 81, 54, 72, 62, 83, 87, 65, 86, 65, 47, 66, 85, 60, 55, 57, 51, 56, 54, 54, 75, 84, 83, 83, 48, 54, 84, 56, 78, 83, 73, 80, 81, 88, 78, 80, 79, 78, 90, 84, 60, 64, 58, 54, 67, 83, 47, 82, 77, 76, 81, 64, 59, 58, 46, 70, 65, 81, 81, 75, 81, 55, 78, 81, 76, 59, 83, 77, 57, 78, 62, 82, 75, 74, 79, 82, 59, 93, 74, 79, 52, 89, 51, 71, 82, 71, 82, 58, 75, 77, 64, 51, 78, 52, 46, 74, 74, 60, 77, 84, 78, 76, 73, 55, 53, 71, 70, 79, 90, 85, 68, 51, 50, 82, 84, 48, 79, 77, 84, 81, 86, 76, 64, 78, 82, 46, 55, 88, 54, 73, 59, 86, 84, 78, 51, 54, 77, 83, 49, 77, 79, 49, 83, 78, 79, 82, 82, 83, 45, 92, 51, 83, 82, 75, 83, 76, 60, 60, 77, 80, 79, 82, 63, 78, 50, 74, 62, 76, 53, 96, 78, 77, 53, 46, 81, 53, 88, 90, 91, 82, 52, 77, 84, 88, 85, 63, 77, 54, 52, 56, 59, 83, 58, 89, 73, 84, 90, 43, 50, 71, 78]\n",
            "\n",
            "[3.6, 4.533, 4.35, 2.167, 4.25, 3.067, 3.85, 1.867, 4.833, 4.35, 2.1, 4.8, 4.716, 1.833, 4.833, 4.317, 4.7, 1.983, 5.067, 2.017, 4.1, 1.867, 1.833, 4.5, 4.7, 4.85, 1.7, 4.6, 1.817, 4.067, 4.6, 1.917, 2.267, 1.867, 2.8, 4.333, 2.033, 4.333, 4.6, 3.567, 3.5, 4.617, 1.917, 4.167, 4.5, 2.417, 4.583, 2.1830000000000003, 3.5, 1.933, 4.5, 4.7, 1.867, 2.4, 4.8, 4.15, 4.4830000000000005, 4.083, 3.917, 4.183, 4.45, 4.15, 2.35, 2.083, 4.35, 4.15, 3.817, 2.15]\n",
            "[79, 85, 85, 52, 79, 69, 78, 48, 80, 80, 53, 75, 90, 54, 80, 81, 73, 62, 76, 60, 70, 50, 63, 83, 84, 86, 59, 85, 59, 69, 88, 45, 55, 45, 56, 89, 53, 76, 81, 71, 66, 93, 49, 81, 73, 50, 77, 55, 87, 49, 83, 80, 49, 53, 94, 76, 75, 78, 70, 86, 90, 75, 47, 57, 74, 88, 80, 46]\n"
          ],
          "name": "stdout"
        }
      ]
    },
    {
      "cell_type": "markdown",
      "metadata": {
        "id": "2auYIwVqk5b3"
      },
      "source": [
        "# Block 3"
      ]
    },
    {
      "cell_type": "code",
      "metadata": {
        "id": "-g4f6C0Jk6vB"
      },
      "source": [
        ""
      ],
      "execution_count": null,
      "outputs": []
    },
    {
      "cell_type": "markdown",
      "metadata": {
        "id": "X7ILKkuzBfZR"
      },
      "source": [
        "# Block 4"
      ]
    }
  ]
}